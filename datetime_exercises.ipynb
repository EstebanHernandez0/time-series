{
 "cells": [
  {
   "cell_type": "code",
   "execution_count": 101,
   "id": "85f32550",
   "metadata": {},
   "outputs": [],
   "source": [
    "#standard ds imports\n",
    "import matplotlib.pyplot as plt\n",
    "import pandas as pd\n",
    "import numpy as np\n",
    "import seaborn as sns\n",
    "\n",
    "#import data\n",
    "from vega_datasets import data\n",
    "\n",
    "#time series import\n",
    "import datetime"
   ]
  },
  {
   "cell_type": "code",
   "execution_count": 102,
   "id": "c1b16a31",
   "metadata": {},
   "outputs": [
    {
     "data": {
      "text/html": [
       "<div>\n",
       "<style scoped>\n",
       "    .dataframe tbody tr th:only-of-type {\n",
       "        vertical-align: middle;\n",
       "    }\n",
       "\n",
       "    .dataframe tbody tr th {\n",
       "        vertical-align: top;\n",
       "    }\n",
       "\n",
       "    .dataframe thead th {\n",
       "        text-align: right;\n",
       "    }\n",
       "</style>\n",
       "<table border=\"1\" class=\"dataframe\">\n",
       "  <thead>\n",
       "    <tr style=\"text-align: right;\">\n",
       "      <th></th>\n",
       "      <th>temp</th>\n",
       "      <th>date</th>\n",
       "    </tr>\n",
       "  </thead>\n",
       "  <tbody>\n",
       "    <tr>\n",
       "      <th>0</th>\n",
       "      <td>47.8</td>\n",
       "      <td>2010-01-01 00:00:00</td>\n",
       "    </tr>\n",
       "    <tr>\n",
       "      <th>1</th>\n",
       "      <td>47.4</td>\n",
       "      <td>2010-01-01 01:00:00</td>\n",
       "    </tr>\n",
       "    <tr>\n",
       "      <th>2</th>\n",
       "      <td>46.9</td>\n",
       "      <td>2010-01-01 02:00:00</td>\n",
       "    </tr>\n",
       "    <tr>\n",
       "      <th>3</th>\n",
       "      <td>46.5</td>\n",
       "      <td>2010-01-01 03:00:00</td>\n",
       "    </tr>\n",
       "    <tr>\n",
       "      <th>4</th>\n",
       "      <td>46.0</td>\n",
       "      <td>2010-01-01 04:00:00</td>\n",
       "    </tr>\n",
       "  </tbody>\n",
       "</table>\n",
       "</div>"
      ],
      "text/plain": [
       "   temp                date\n",
       "0  47.8 2010-01-01 00:00:00\n",
       "1  47.4 2010-01-01 01:00:00\n",
       "2  46.9 2010-01-01 02:00:00\n",
       "3  46.5 2010-01-01 03:00:00\n",
       "4  46.0 2010-01-01 04:00:00"
      ]
     },
     "execution_count": 102,
     "metadata": {},
     "output_type": "execute_result"
    }
   ],
   "source": [
    "# getting our data to answer our first set of questions and asigning it to a variable \n",
    "df= data.sf_temps()\n",
    "df.head()"
   ]
  },
  {
   "cell_type": "code",
   "execution_count": 103,
   "id": "2331d53b",
   "metadata": {},
   "outputs": [
    {
     "data": {
      "text/plain": [
       "temp           float64\n",
       "date    datetime64[ns]\n",
       "dtype: object"
      ]
     },
     "execution_count": 103,
     "metadata": {},
     "output_type": "execute_result"
    }
   ],
   "source": [
    "# making sure that the data types are correct \n",
    "df.dtypes"
   ]
  },
  {
   "cell_type": "code",
   "execution_count": 104,
   "id": "c9eba042",
   "metadata": {},
   "outputs": [
    {
     "data": {
      "text/plain": [
       "temp    0\n",
       "date    0\n",
       "dtype: int64"
      ]
     },
     "execution_count": 104,
     "metadata": {},
     "output_type": "execute_result"
    }
   ],
   "source": [
    "# checking for null values\n",
    "df.isna().sum()"
   ]
  },
  {
   "cell_type": "code",
   "execution_count": 105,
   "id": "f0bd5fa3",
   "metadata": {},
   "outputs": [],
   "source": [
    "df= df.set_index('date')"
   ]
  },
  {
   "cell_type": "markdown",
   "id": "1f3156f5",
   "metadata": {},
   "source": [
    "# Datetime Exercises"
   ]
  },
  {
   "cell_type": "markdown",
   "id": "4ba6b911",
   "metadata": {},
   "source": [
    "## Resample by the day and take the average temperature. Visualize the average temperature over time."
   ]
  },
  {
   "cell_type": "code",
   "execution_count": 106,
   "id": "3d68f648",
   "metadata": {},
   "outputs": [
    {
     "data": {
      "text/plain": [
       "<AxesSubplot:xlabel='date'>"
      ]
     },
     "execution_count": 106,
     "metadata": {},
     "output_type": "execute_result"
    },
    {
     "data": {
      "image/png": "[encoded data removed]",
      "text/plain": [
       "<Figure size 640x480 with 1 Axes>"
      ]
     },
     "metadata": {},
     "output_type": "display_data"
    }
   ],
   "source": [
    "df.resample('D').mean()['temp'].plot()"
   ]
  },
  {
   "cell_type": "markdown",
   "id": "7b0a25e3",
   "metadata": {},
   "source": [
    "## Write the code necessary to visualize the minimum temperature over time."
   ]
  },
  {
   "cell_type": "code",
   "execution_count": 107,
   "id": "9a050253",
   "metadata": {},
   "outputs": [
    {
     "data": {
      "text/plain": [
       "<AxesSubplot:xlabel='date'>"
      ]
     },
     "execution_count": 107,
     "metadata": {},
     "output_type": "execute_result"
    },
    {
     "data": {
      "image/png": "[encoded data removed]",
      "text/plain": [
       "<Figure size 640x480 with 1 Axes>"
      ]
     },
     "metadata": {},
     "output_type": "display_data"
    }
   ],
   "source": [
    "df.resample('D').min()['temp'].plot()"
   ]
  },
  {
   "cell_type": "markdown",
   "id": "b3eab8c6",
   "metadata": {},
   "source": [
    "## Write the code necessary to visualize the maximum temperature over time."
   ]
  },
  {
   "cell_type": "code",
   "execution_count": 108,
   "id": "18ad3406",
   "metadata": {},
   "outputs": [
    {
     "data": {
      "text/plain": [
       "<AxesSubplot:xlabel='date'>"
      ]
     },
     "execution_count": 108,
     "metadata": {},
     "output_type": "execute_result"
    },
    {
     "data": {
      "image/png": "[encoded data removed]",
      "text/plain": [
       "<Figure size 640x480 with 1 Axes>"
      ]
     },
     "metadata": {},
     "output_type": "display_data"
    }
   ],
   "source": [
    "df.resample('D').max()['temp'].plot()"
   ]
  },
  {
   "cell_type": "markdown",
   "id": "656d5b1a",
   "metadata": {},
   "source": [
    "## Which month is the coldest, on average?"
   ]
  },
  {
   "cell_type": "code",
   "execution_count": 109,
   "id": "9c5d00d4",
   "metadata": {},
   "outputs": [
    {
     "data": {
      "text/plain": [
       "(49.98413978494623,)"
      ]
     },
     "execution_count": 109,
     "metadata": {},
     "output_type": "execute_result"
    }
   ],
   "source": [
    "df.resample('M').mean()['temp'].min(), "
   ]
  },
  {
   "cell_type": "markdown",
   "id": "5e33e8d3",
   "metadata": {},
   "source": [
    "## Which month has the highest average temperature?"
   ]
  },
  {
   "cell_type": "code",
   "execution_count": 111,
   "id": "1db8bcc6",
   "metadata": {},
   "outputs": [
    {
     "data": {
      "text/plain": [
       "date\n",
       "2010-09-30    62.487083\n",
       "2010-08-31    62.405376\n",
       "2010-07-31    61.765457\n",
       "2010-06-30    60.444722\n",
       "2010-10-31    60.253091\n",
       "2010-05-31    57.970968\n",
       "2010-04-30    55.633056\n",
       "2010-11-30    55.185139\n",
       "2010-03-31    53.956528\n",
       "2010-02-28    52.243899\n",
       "2010-12-31    50.498253\n",
       "2010-01-31    49.984140\n",
       "Name: temp, dtype: float64"
      ]
     },
     "execution_count": 111,
     "metadata": {},
     "output_type": "execute_result"
    }
   ],
   "source": [
    "df.temp.resample('M').mean().sort_values(ascending=False)"
   ]
  },
  {
   "cell_type": "code",
   "execution_count": 112,
   "id": "bc534faa",
   "metadata": {},
   "outputs": [
    {
     "data": {
      "text/plain": [
       "date\n",
       "2010-09-30    62.487083\n",
       "Name: temp, dtype: float64"
      ]
     },
     "execution_count": 112,
     "metadata": {},
     "output_type": "execute_result"
    }
   ],
   "source": [
    "df.temp.resample('M').mean().sort_values().tail(1)"
   ]
  },
  {
   "cell_type": "markdown",
   "id": "a27f82c9",
   "metadata": {},
   "source": [
    "## Resample by the day and calculate the min and max temp for the day (Hint: .agg(['min', 'max'])). Use this resampled dataframe to calculate the change in temperature for the day. Which month has the highest daily temperature variability?"
   ]
  },
  {
   "cell_type": "code",
   "execution_count": 114,
   "id": "40832a8f",
   "metadata": {},
   "outputs": [
    {
     "data": {
      "text/html": [
       "<div>\n",
       "<style scoped>\n",
       "    .dataframe tbody tr th:only-of-type {\n",
       "        vertical-align: middle;\n",
       "    }\n",
       "\n",
       "    .dataframe tbody tr th {\n",
       "        vertical-align: top;\n",
       "    }\n",
       "\n",
       "    .dataframe thead th {\n",
       "        text-align: right;\n",
       "    }\n",
       "</style>\n",
       "<table border=\"1\" class=\"dataframe\">\n",
       "  <thead>\n",
       "    <tr style=\"text-align: right;\">\n",
       "      <th></th>\n",
       "      <th>min</th>\n",
       "      <th>max</th>\n",
       "    </tr>\n",
       "    <tr>\n",
       "      <th>date</th>\n",
       "      <th></th>\n",
       "      <th></th>\n",
       "    </tr>\n",
       "  </thead>\n",
       "  <tbody>\n",
       "    <tr>\n",
       "      <th>2010-01-01</th>\n",
       "      <td>45.8</td>\n",
       "      <td>53.3</td>\n",
       "    </tr>\n",
       "    <tr>\n",
       "      <th>2010-01-02</th>\n",
       "      <td>46.0</td>\n",
       "      <td>53.4</td>\n",
       "    </tr>\n",
       "    <tr>\n",
       "      <th>2010-01-03</th>\n",
       "      <td>46.1</td>\n",
       "      <td>53.5</td>\n",
       "    </tr>\n",
       "    <tr>\n",
       "      <th>2010-01-04</th>\n",
       "      <td>46.1</td>\n",
       "      <td>53.6</td>\n",
       "    </tr>\n",
       "    <tr>\n",
       "      <th>2010-01-05</th>\n",
       "      <td>46.1</td>\n",
       "      <td>53.8</td>\n",
       "    </tr>\n",
       "    <tr>\n",
       "      <th>...</th>\n",
       "      <td>...</td>\n",
       "      <td>...</td>\n",
       "    </tr>\n",
       "    <tr>\n",
       "      <th>2010-12-27</th>\n",
       "      <td>45.6</td>\n",
       "      <td>53.2</td>\n",
       "    </tr>\n",
       "    <tr>\n",
       "      <th>2010-12-28</th>\n",
       "      <td>45.6</td>\n",
       "      <td>53.2</td>\n",
       "    </tr>\n",
       "    <tr>\n",
       "      <th>2010-12-29</th>\n",
       "      <td>45.6</td>\n",
       "      <td>53.2</td>\n",
       "    </tr>\n",
       "    <tr>\n",
       "      <th>2010-12-30</th>\n",
       "      <td>45.6</td>\n",
       "      <td>53.2</td>\n",
       "    </tr>\n",
       "    <tr>\n",
       "      <th>2010-12-31</th>\n",
       "      <td>45.8</td>\n",
       "      <td>53.2</td>\n",
       "    </tr>\n",
       "  </tbody>\n",
       "</table>\n",
       "<p>365 rows × 2 columns</p>\n",
       "</div>"
      ],
      "text/plain": [
       "             min   max\n",
       "date                  \n",
       "2010-01-01  45.8  53.3\n",
       "2010-01-02  46.0  53.4\n",
       "2010-01-03  46.1  53.5\n",
       "2010-01-04  46.1  53.6\n",
       "2010-01-05  46.1  53.8\n",
       "...          ...   ...\n",
       "2010-12-27  45.6  53.2\n",
       "2010-12-28  45.6  53.2\n",
       "2010-12-29  45.6  53.2\n",
       "2010-12-30  45.6  53.2\n",
       "2010-12-31  45.8  53.2\n",
       "\n",
       "[365 rows x 2 columns]"
      ]
     },
     "execution_count": 114,
     "metadata": {},
     "output_type": "execute_result"
    }
   ],
   "source": [
    "daily_df = df.temp.resample('D').agg(['min', 'max'])\n",
    "daily_df"
   ]
  },
  {
   "cell_type": "code",
   "execution_count": 118,
   "id": "67893edc",
   "metadata": {},
   "outputs": [
    {
     "data": {
      "text/html": [
       "<div>\n",
       "<style scoped>\n",
       "    .dataframe tbody tr th:only-of-type {\n",
       "        vertical-align: middle;\n",
       "    }\n",
       "\n",
       "    .dataframe tbody tr th {\n",
       "        vertical-align: top;\n",
       "    }\n",
       "\n",
       "    .dataframe thead th {\n",
       "        text-align: right;\n",
       "    }\n",
       "</style>\n",
       "<table border=\"1\" class=\"dataframe\">\n",
       "  <thead>\n",
       "    <tr style=\"text-align: right;\">\n",
       "      <th></th>\n",
       "      <th>min</th>\n",
       "      <th>max</th>\n",
       "      <th>temp_diff</th>\n",
       "    </tr>\n",
       "    <tr>\n",
       "      <th>date</th>\n",
       "      <th></th>\n",
       "      <th></th>\n",
       "      <th></th>\n",
       "    </tr>\n",
       "  </thead>\n",
       "  <tbody>\n",
       "    <tr>\n",
       "      <th>2010-01-01</th>\n",
       "      <td>45.8</td>\n",
       "      <td>53.3</td>\n",
       "      <td>7.5</td>\n",
       "    </tr>\n",
       "    <tr>\n",
       "      <th>2010-01-02</th>\n",
       "      <td>46.0</td>\n",
       "      <td>53.4</td>\n",
       "      <td>7.4</td>\n",
       "    </tr>\n",
       "    <tr>\n",
       "      <th>2010-01-03</th>\n",
       "      <td>46.1</td>\n",
       "      <td>53.5</td>\n",
       "      <td>7.4</td>\n",
       "    </tr>\n",
       "    <tr>\n",
       "      <th>2010-01-04</th>\n",
       "      <td>46.1</td>\n",
       "      <td>53.6</td>\n",
       "      <td>7.5</td>\n",
       "    </tr>\n",
       "    <tr>\n",
       "      <th>2010-01-05</th>\n",
       "      <td>46.1</td>\n",
       "      <td>53.8</td>\n",
       "      <td>7.7</td>\n",
       "    </tr>\n",
       "    <tr>\n",
       "      <th>...</th>\n",
       "      <td>...</td>\n",
       "      <td>...</td>\n",
       "      <td>...</td>\n",
       "    </tr>\n",
       "    <tr>\n",
       "      <th>2010-12-27</th>\n",
       "      <td>45.6</td>\n",
       "      <td>53.2</td>\n",
       "      <td>7.6</td>\n",
       "    </tr>\n",
       "    <tr>\n",
       "      <th>2010-12-28</th>\n",
       "      <td>45.6</td>\n",
       "      <td>53.2</td>\n",
       "      <td>7.6</td>\n",
       "    </tr>\n",
       "    <tr>\n",
       "      <th>2010-12-29</th>\n",
       "      <td>45.6</td>\n",
       "      <td>53.2</td>\n",
       "      <td>7.6</td>\n",
       "    </tr>\n",
       "    <tr>\n",
       "      <th>2010-12-30</th>\n",
       "      <td>45.6</td>\n",
       "      <td>53.2</td>\n",
       "      <td>7.6</td>\n",
       "    </tr>\n",
       "    <tr>\n",
       "      <th>2010-12-31</th>\n",
       "      <td>45.8</td>\n",
       "      <td>53.2</td>\n",
       "      <td>7.4</td>\n",
       "    </tr>\n",
       "  </tbody>\n",
       "</table>\n",
       "<p>365 rows × 3 columns</p>\n",
       "</div>"
      ],
      "text/plain": [
       "             min   max  temp_diff\n",
       "date                             \n",
       "2010-01-01  45.8  53.3        7.5\n",
       "2010-01-02  46.0  53.4        7.4\n",
       "2010-01-03  46.1  53.5        7.4\n",
       "2010-01-04  46.1  53.6        7.5\n",
       "2010-01-05  46.1  53.8        7.7\n",
       "...          ...   ...        ...\n",
       "2010-12-27  45.6  53.2        7.6\n",
       "2010-12-28  45.6  53.2        7.6\n",
       "2010-12-29  45.6  53.2        7.6\n",
       "2010-12-30  45.6  53.2        7.6\n",
       "2010-12-31  45.8  53.2        7.4\n",
       "\n",
       "[365 rows x 3 columns]"
      ]
     },
     "execution_count": 118,
     "metadata": {},
     "output_type": "execute_result"
    }
   ],
   "source": [
    "daily_df['temp_diff'] = daily_df['max'] - daily_df['min']\n",
    "daily_df"
   ]
  },
  {
   "cell_type": "code",
   "execution_count": 119,
   "id": "d8708a0f",
   "metadata": {},
   "outputs": [
    {
     "data": {
      "text/plain": [
       "date\n",
       "2010-08-31    15.0\n",
       "2010-09-30    14.9\n",
       "2010-06-30    14.8\n",
       "2010-07-31    14.8\n",
       "2010-10-31    14.4\n",
       "2010-05-31    13.1\n",
       "2010-04-30    13.0\n",
       "2010-03-31    12.0\n",
       "2010-11-30    11.8\n",
       "2010-02-28     9.9\n",
       "2010-01-31     9.3\n",
       "2010-12-31     8.9\n",
       "Name: temp_diff, dtype: float64"
      ]
     },
     "execution_count": 119,
     "metadata": {},
     "output_type": "execute_result"
    }
   ],
   "source": [
    "#sort the values to see temp difference to answer question\n",
    "daily_df.temp_diff.resample('M').max().sort_values(ascending=False)"
   ]
  },
  {
   "cell_type": "markdown",
   "id": "041171e8",
   "metadata": {},
   "source": [
    "## Set 2 of Exercises"
   ]
  },
  {
   "cell_type": "code",
   "execution_count": 122,
   "id": "ff5e5e4c",
   "metadata": {},
   "outputs": [
    {
     "data": {
      "text/html": [
       "<div>\n",
       "<style scoped>\n",
       "    .dataframe tbody tr th:only-of-type {\n",
       "        vertical-align: middle;\n",
       "    }\n",
       "\n",
       "    .dataframe tbody tr th {\n",
       "        vertical-align: top;\n",
       "    }\n",
       "\n",
       "    .dataframe thead th {\n",
       "        text-align: right;\n",
       "    }\n",
       "</style>\n",
       "<table border=\"1\" class=\"dataframe\">\n",
       "  <thead>\n",
       "    <tr style=\"text-align: right;\">\n",
       "      <th></th>\n",
       "      <th>date</th>\n",
       "      <th>precipitation</th>\n",
       "      <th>temp_max</th>\n",
       "      <th>temp_min</th>\n",
       "      <th>wind</th>\n",
       "      <th>weather</th>\n",
       "    </tr>\n",
       "  </thead>\n",
       "  <tbody>\n",
       "    <tr>\n",
       "      <th>0</th>\n",
       "      <td>2012-01-01</td>\n",
       "      <td>0.0</td>\n",
       "      <td>12.8</td>\n",
       "      <td>5.0</td>\n",
       "      <td>4.7</td>\n",
       "      <td>drizzle</td>\n",
       "    </tr>\n",
       "    <tr>\n",
       "      <th>1</th>\n",
       "      <td>2012-01-02</td>\n",
       "      <td>10.9</td>\n",
       "      <td>10.6</td>\n",
       "      <td>2.8</td>\n",
       "      <td>4.5</td>\n",
       "      <td>rain</td>\n",
       "    </tr>\n",
       "    <tr>\n",
       "      <th>2</th>\n",
       "      <td>2012-01-03</td>\n",
       "      <td>0.8</td>\n",
       "      <td>11.7</td>\n",
       "      <td>7.2</td>\n",
       "      <td>2.3</td>\n",
       "      <td>rain</td>\n",
       "    </tr>\n",
       "    <tr>\n",
       "      <th>3</th>\n",
       "      <td>2012-01-04</td>\n",
       "      <td>20.3</td>\n",
       "      <td>12.2</td>\n",
       "      <td>5.6</td>\n",
       "      <td>4.7</td>\n",
       "      <td>rain</td>\n",
       "    </tr>\n",
       "    <tr>\n",
       "      <th>4</th>\n",
       "      <td>2012-01-05</td>\n",
       "      <td>1.3</td>\n",
       "      <td>8.9</td>\n",
       "      <td>2.8</td>\n",
       "      <td>6.1</td>\n",
       "      <td>rain</td>\n",
       "    </tr>\n",
       "  </tbody>\n",
       "</table>\n",
       "</div>"
      ],
      "text/plain": [
       "        date  precipitation  temp_max  temp_min  wind  weather\n",
       "0 2012-01-01            0.0      12.8       5.0   4.7  drizzle\n",
       "1 2012-01-02           10.9      10.6       2.8   4.5     rain\n",
       "2 2012-01-03            0.8      11.7       7.2   2.3     rain\n",
       "3 2012-01-04           20.3      12.2       5.6   4.7     rain\n",
       "4 2012-01-05            1.3       8.9       2.8   6.1     rain"
      ]
     },
     "execution_count": 122,
     "metadata": {},
     "output_type": "execute_result"
    }
   ],
   "source": [
    "df= data.seattle_weather()\n",
    "df.head()"
   ]
  },
  {
   "cell_type": "code",
   "execution_count": 123,
   "id": "d786fd09",
   "metadata": {},
   "outputs": [
    {
     "data": {
      "text/plain": [
       "date             0\n",
       "precipitation    0\n",
       "temp_max         0\n",
       "temp_min         0\n",
       "wind             0\n",
       "weather          0\n",
       "dtype: int64"
      ]
     },
     "execution_count": 123,
     "metadata": {},
     "output_type": "execute_result"
    }
   ],
   "source": [
    "df.isna().sum()"
   ]
  },
  {
   "cell_type": "code",
   "execution_count": 124,
   "id": "84bde828",
   "metadata": {},
   "outputs": [
    {
     "data": {
      "text/plain": [
       "date             datetime64[ns]\n",
       "precipitation           float64\n",
       "temp_max                float64\n",
       "temp_min                float64\n",
       "wind                    float64\n",
       "weather                  object\n",
       "dtype: object"
      ]
     },
     "execution_count": 124,
     "metadata": {},
     "output_type": "execute_result"
    }
   ],
   "source": [
    "df.dtypes"
   ]
  },
  {
   "cell_type": "code",
   "execution_count": 125,
   "id": "47dada40",
   "metadata": {},
   "outputs": [
    {
     "data": {
      "text/html": [
       "<div>\n",
       "<style scoped>\n",
       "    .dataframe tbody tr th:only-of-type {\n",
       "        vertical-align: middle;\n",
       "    }\n",
       "\n",
       "    .dataframe tbody tr th {\n",
       "        vertical-align: top;\n",
       "    }\n",
       "\n",
       "    .dataframe thead th {\n",
       "        text-align: right;\n",
       "    }\n",
       "</style>\n",
       "<table border=\"1\" class=\"dataframe\">\n",
       "  <thead>\n",
       "    <tr style=\"text-align: right;\">\n",
       "      <th></th>\n",
       "      <th>precipitation</th>\n",
       "      <th>temp_max</th>\n",
       "      <th>temp_min</th>\n",
       "      <th>wind</th>\n",
       "      <th>weather</th>\n",
       "    </tr>\n",
       "    <tr>\n",
       "      <th>date</th>\n",
       "      <th></th>\n",
       "      <th></th>\n",
       "      <th></th>\n",
       "      <th></th>\n",
       "      <th></th>\n",
       "    </tr>\n",
       "  </thead>\n",
       "  <tbody>\n",
       "    <tr>\n",
       "      <th>2012-01-01</th>\n",
       "      <td>0.0</td>\n",
       "      <td>12.8</td>\n",
       "      <td>5.0</td>\n",
       "      <td>4.7</td>\n",
       "      <td>drizzle</td>\n",
       "    </tr>\n",
       "  </tbody>\n",
       "</table>\n",
       "</div>"
      ],
      "text/plain": [
       "            precipitation  temp_max  temp_min  wind  weather\n",
       "date                                                        \n",
       "2012-01-01            0.0      12.8       5.0   4.7  drizzle"
      ]
     },
     "execution_count": 125,
     "metadata": {},
     "output_type": "execute_result"
    }
   ],
   "source": [
    "df= df.set_index('date')\n",
    "df.head(1)"
   ]
  },
  {
   "cell_type": "markdown",
   "id": "d86ccbed",
   "metadata": {},
   "source": [
    "## Which year and month combination has the highest amount of precipitation?"
   ]
  },
  {
   "cell_type": "code",
   "execution_count": 127,
   "id": "83199792",
   "metadata": {},
   "outputs": [
    {
     "data": {
      "text/plain": [
       "date\n",
       "2015-12-31    9.177419\n",
       "2014-03-31    7.741935\n",
       "2015-11-30    7.086667\n",
       "2012-11-30    7.016667\n",
       "2012-03-31    5.903226\n",
       "2012-12-31    5.612903\n",
       "2012-01-31    5.590323\n",
       "2014-02-28    5.542857\n",
       "2014-10-31    5.532258\n",
       "2012-10-31    5.493548\n",
       "2013-09-30    5.226667\n",
       "2013-04-30    4.986667\n",
       "2015-02-28    4.792857\n",
       "2014-11-30    4.103333\n",
       "2015-10-31    3.948387\n",
       "2014-12-31    3.929032\n",
       "2015-03-31    3.661290\n",
       "2014-04-30    3.536667\n",
       "2013-01-31    3.409677\n",
       "2013-11-30    3.210000\n",
       "2012-02-29    3.182759\n",
       "2014-01-31    3.032258\n",
       "2015-01-31    3.000000\n",
       "2015-08-31    2.687097\n",
       "2014-05-31    2.580645\n",
       "2012-06-30    2.503333\n",
       "2012-04-30    2.270000\n",
       "2013-03-31    2.248387\n",
       "2013-05-31    1.951613\n",
       "2014-09-30    1.890000\n",
       "2015-04-30    1.720000\n",
       "2012-05-31    1.683871\n",
       "2014-08-31    1.483871\n",
       "2013-02-28    1.439286\n",
       "2013-12-31    1.367742\n",
       "2013-10-31    1.264516\n",
       "2013-08-31    1.109677\n",
       "2013-06-30    1.103333\n",
       "2012-07-31    0.848387\n",
       "2015-09-30    0.703333\n",
       "2014-07-31    0.632258\n",
       "2014-06-30    0.626667\n",
       "2015-05-31    0.477419\n",
       "2015-06-30    0.196667\n",
       "2015-07-31    0.074194\n",
       "2012-09-30    0.030000\n",
       "2013-07-31    0.000000\n",
       "2012-08-31    0.000000\n",
       "Name: precipitation, dtype: float64"
      ]
     },
     "execution_count": 127,
     "metadata": {},
     "output_type": "execute_result"
    }
   ],
   "source": [
    "df.precipitation.resample('M').mean().sort_values(ascending=False)"
   ]
  },
  {
   "cell_type": "code",
   "execution_count": 128,
   "id": "55b989bb",
   "metadata": {},
   "outputs": [
    {
     "data": {
      "text/plain": [
       "date\n",
       "2015-03-15    55.9\n",
       "Name: precipitation, dtype: float64"
      ]
     },
     "execution_count": 128,
     "metadata": {},
     "output_type": "execute_result"
    }
   ],
   "source": [
    "df.precipitation.sort_values(ascending=False).head(1)"
   ]
  },
  {
   "cell_type": "markdown",
   "id": "191c1aa3",
   "metadata": {},
   "source": [
    "## Visualize the amount of monthly precipitation over time."
   ]
  },
  {
   "cell_type": "code",
   "execution_count": 129,
   "id": "2833ade3",
   "metadata": {},
   "outputs": [
    {
     "data": {
      "image/png": "[encoded data removed]",
      "text/plain": [
       "<Figure size 640x480 with 1 Axes>"
      ]
     },
     "metadata": {},
     "output_type": "display_data"
    }
   ],
   "source": [
    "df.precipitation.resample('M').mean().plot()\n",
    "plt.title('Precipitation Rates in Seattle')\n",
    "plt.ylabel('Precipiation')\n",
    "plt.show()"
   ]
  },
  {
   "cell_type": "markdown",
   "id": "6df86903",
   "metadata": {},
   "source": [
    "## Visualize the amount of wind over time. Choose a time interval you think is appropriate."
   ]
  },
  {
   "cell_type": "code",
   "execution_count": 130,
   "id": "d19348bd",
   "metadata": {},
   "outputs": [
    {
     "data": {
      "image/png": "[encoded data removed]",
      "text/plain": [
       "<Figure size 640x480 with 1 Axes>"
      ]
     },
     "metadata": {},
     "output_type": "display_data"
    }
   ],
   "source": [
    "df.wind.resample('M').mean().plot()\n",
    "plt.title('Wind Rates in Seattle')\n",
    "plt.ylabel('Wind')\n",
    "plt.show()\n"
   ]
  },
  {
   "cell_type": "markdown",
   "id": "5f57dd37",
   "metadata": {},
   "source": [
    "## Which year-month combination is the windiest?"
   ]
  },
  {
   "cell_type": "code",
   "execution_count": 131,
   "id": "c157a580",
   "metadata": {},
   "outputs": [
    {
     "data": {
      "text/plain": [
       "date\n",
       "2012-12-17    9.5\n",
       "Name: wind, dtype: float64"
      ]
     },
     "execution_count": 131,
     "metadata": {},
     "output_type": "execute_result"
    }
   ],
   "source": [
    "df.wind.sort_values(ascending=False).head(1)"
   ]
  },
  {
   "cell_type": "markdown",
   "id": "712a2d8f",
   "metadata": {},
   "source": [
    "## What's the sunniest year? (Hint: which day has the highest number of days where weather == sun?)"
   ]
  },
  {
   "cell_type": "code",
   "execution_count": 133,
   "id": "468d5d7b",
   "metadata": {},
   "outputs": [],
   "source": [
    "df['sunny_day'] = df.weather == 'sun'"
   ]
  },
  {
   "cell_type": "code",
   "execution_count": 134,
   "id": "667b17df",
   "metadata": {},
   "outputs": [
    {
     "data": {
      "text/plain": [
       "date\n",
       "2014-12-31    211\n",
       "2013-12-31    205\n",
       "2015-12-31    180\n",
       "2012-12-31    118\n",
       "Name: sunny_day, dtype: int64"
      ]
     },
     "execution_count": 134,
     "metadata": {},
     "output_type": "execute_result"
    }
   ],
   "source": [
    "df.sunny_day.resample('Y').sum().sort_values(ascending=False)"
   ]
  },
  {
   "cell_type": "code",
   "execution_count": 135,
   "id": "9d9e1cc4",
   "metadata": {},
   "outputs": [
    {
     "data": {
      "text/plain": [
       "date\n",
       "2014-12-31    0.578082\n",
       "2013-12-31    0.561644\n",
       "2015-12-31    0.493151\n",
       "2012-12-31    0.322404\n",
       "Name: sunny_day, dtype: float64"
      ]
     },
     "execution_count": 135,
     "metadata": {},
     "output_type": "execute_result"
    }
   ],
   "source": [
    "df.sunny_day.resample('Y').mean().sort_values(ascending=False)"
   ]
  },
  {
   "cell_type": "markdown",
   "id": "cf6d454e",
   "metadata": {},
   "source": [
    "## In which month does it rain the most?"
   ]
  },
  {
   "cell_type": "code",
   "execution_count": 137,
   "id": "e8c4daab",
   "metadata": {},
   "outputs": [
    {
     "data": {
      "text/html": [
       "<div>\n",
       "<style scoped>\n",
       "    .dataframe tbody tr th:only-of-type {\n",
       "        vertical-align: middle;\n",
       "    }\n",
       "\n",
       "    .dataframe tbody tr th {\n",
       "        vertical-align: top;\n",
       "    }\n",
       "\n",
       "    .dataframe thead th {\n",
       "        text-align: right;\n",
       "    }\n",
       "</style>\n",
       "<table border=\"1\" class=\"dataframe\">\n",
       "  <thead>\n",
       "    <tr style=\"text-align: right;\">\n",
       "      <th></th>\n",
       "      <th>precipitation</th>\n",
       "      <th>temp_max</th>\n",
       "      <th>temp_min</th>\n",
       "      <th>wind</th>\n",
       "      <th>weather</th>\n",
       "      <th>sunny_day</th>\n",
       "      <th>rainy_day</th>\n",
       "    </tr>\n",
       "    <tr>\n",
       "      <th>date</th>\n",
       "      <th></th>\n",
       "      <th></th>\n",
       "      <th></th>\n",
       "      <th></th>\n",
       "      <th></th>\n",
       "      <th></th>\n",
       "      <th></th>\n",
       "    </tr>\n",
       "  </thead>\n",
       "  <tbody>\n",
       "    <tr>\n",
       "      <th>2012-01-01</th>\n",
       "      <td>0.0</td>\n",
       "      <td>12.8</td>\n",
       "      <td>5.0</td>\n",
       "      <td>4.7</td>\n",
       "      <td>drizzle</td>\n",
       "      <td>False</td>\n",
       "      <td>False</td>\n",
       "    </tr>\n",
       "    <tr>\n",
       "      <th>2012-01-02</th>\n",
       "      <td>10.9</td>\n",
       "      <td>10.6</td>\n",
       "      <td>2.8</td>\n",
       "      <td>4.5</td>\n",
       "      <td>rain</td>\n",
       "      <td>False</td>\n",
       "      <td>True</td>\n",
       "    </tr>\n",
       "    <tr>\n",
       "      <th>2012-01-03</th>\n",
       "      <td>0.8</td>\n",
       "      <td>11.7</td>\n",
       "      <td>7.2</td>\n",
       "      <td>2.3</td>\n",
       "      <td>rain</td>\n",
       "      <td>False</td>\n",
       "      <td>True</td>\n",
       "    </tr>\n",
       "    <tr>\n",
       "      <th>2012-01-04</th>\n",
       "      <td>20.3</td>\n",
       "      <td>12.2</td>\n",
       "      <td>5.6</td>\n",
       "      <td>4.7</td>\n",
       "      <td>rain</td>\n",
       "      <td>False</td>\n",
       "      <td>True</td>\n",
       "    </tr>\n",
       "    <tr>\n",
       "      <th>2012-01-05</th>\n",
       "      <td>1.3</td>\n",
       "      <td>8.9</td>\n",
       "      <td>2.8</td>\n",
       "      <td>6.1</td>\n",
       "      <td>rain</td>\n",
       "      <td>False</td>\n",
       "      <td>True</td>\n",
       "    </tr>\n",
       "  </tbody>\n",
       "</table>\n",
       "</div>"
      ],
      "text/plain": [
       "            precipitation  temp_max  temp_min  wind  weather  sunny_day  \\\n",
       "date                                                                      \n",
       "2012-01-01            0.0      12.8       5.0   4.7  drizzle      False   \n",
       "2012-01-02           10.9      10.6       2.8   4.5     rain      False   \n",
       "2012-01-03            0.8      11.7       7.2   2.3     rain      False   \n",
       "2012-01-04           20.3      12.2       5.6   4.7     rain      False   \n",
       "2012-01-05            1.3       8.9       2.8   6.1     rain      False   \n",
       "\n",
       "            rainy_day  \n",
       "date                   \n",
       "2012-01-01      False  \n",
       "2012-01-02       True  \n",
       "2012-01-03       True  \n",
       "2012-01-04       True  \n",
       "2012-01-05       True  "
      ]
     },
     "execution_count": 137,
     "metadata": {},
     "output_type": "execute_result"
    }
   ],
   "source": [
    "df['rainy_day'] = df.weather == 'rain'\n",
    "df.head()"
   ]
  },
  {
   "cell_type": "code",
   "execution_count": 138,
   "id": "af252320",
   "metadata": {},
   "outputs": [],
   "source": [
    "df['month'] = df.index.month_name()"
   ]
  },
  {
   "cell_type": "code",
   "execution_count": 139,
   "id": "ccb39b07",
   "metadata": {},
   "outputs": [
    {
     "data": {
      "text/plain": [
       "date\n",
       "2012-11-30    25\n",
       "2012-12-31    23\n",
       "2013-02-28    23\n",
       "2012-03-31    19\n",
       "2012-04-30    19\n",
       "2012-06-30    19\n",
       "2013-03-31    18\n",
       "2012-01-31    18\n",
       "2012-10-31    17\n",
       "2012-02-29    17\n",
       "2013-01-31    16\n",
       "2012-05-31    16\n",
       "2012-07-31    12\n",
       "2012-09-30     4\n",
       "2012-08-31     2\n",
       "2015-08-31     2\n",
       "2013-10-31     1\n",
       "2014-08-31     1\n",
       "2014-07-31     1\n",
       "2015-01-31     1\n",
       "2015-04-30     1\n",
       "2014-10-31     1\n",
       "2013-08-31     1\n",
       "2013-07-31     1\n",
       "2015-10-31     1\n",
       "2015-07-31     0\n",
       "2015-06-30     0\n",
       "2015-05-31     0\n",
       "2015-03-31     0\n",
       "2015-02-28     0\n",
       "2014-11-30     0\n",
       "2015-11-30     0\n",
       "2014-12-31     0\n",
       "2015-09-30     0\n",
       "2014-01-31     0\n",
       "2014-09-30     0\n",
       "2014-06-30     0\n",
       "2014-05-31     0\n",
       "2014-04-30     0\n",
       "2014-03-31     0\n",
       "2014-02-28     0\n",
       "2013-12-31     0\n",
       "2013-11-30     0\n",
       "2013-09-30     0\n",
       "2013-06-30     0\n",
       "2013-05-31     0\n",
       "2013-04-30     0\n",
       "2015-12-31     0\n",
       "Name: rainy_day, dtype: int64"
      ]
     },
     "execution_count": 139,
     "metadata": {},
     "output_type": "execute_result"
    }
   ],
   "source": [
    "df.rainy_day.resample('M').sum().sort_values(ascending=False)"
   ]
  },
  {
   "cell_type": "code",
   "execution_count": 140,
   "id": "644a4c50",
   "metadata": {},
   "outputs": [
    {
     "data": {
      "text/plain": [
       "January      124\n",
       "March        124\n",
       "May          124\n",
       "July         124\n",
       "August       124\n",
       "October      124\n",
       "December     124\n",
       "April        120\n",
       "June         120\n",
       "September    120\n",
       "November     120\n",
       "February     113\n",
       "Name: month, dtype: int64"
      ]
     },
     "execution_count": 140,
     "metadata": {},
     "output_type": "execute_result"
    }
   ],
   "source": [
    "df.month.value_counts()"
   ]
  },
  {
   "cell_type": "code",
   "execution_count": 141,
   "id": "18535942",
   "metadata": {},
   "outputs": [
    {
     "data": {
      "text/plain": [
       "month\n",
       "November     642.5\n",
       "December     622.7\n",
       "March        606.2\n",
       "October      503.4\n",
       "January      466.0\n",
       "February     422.0\n",
       "April        375.4\n",
       "September    235.5\n",
       "May          207.5\n",
       "August       163.7\n",
       "June         132.9\n",
       "July          48.2\n",
       "Name: precipitation, dtype: float64"
      ]
     },
     "execution_count": 141,
     "metadata": {},
     "output_type": "execute_result"
    }
   ],
   "source": [
    "df.groupby('month').precipitation.sum().sort_values(ascending=False)"
   ]
  },
  {
   "cell_type": "code",
   "execution_count": 143,
   "id": "966cf378",
   "metadata": {},
   "outputs": [
    {
     "data": {
      "text/plain": [
       "month\n",
       "February     40\n",
       "March        37\n",
       "January      35\n",
       "November     25\n",
       "December     23\n",
       "April        20\n",
       "October      20\n",
       "June         19\n",
       "May          16\n",
       "July         14\n",
       "August        6\n",
       "September     4\n",
       "Name: rainy_day, dtype: int64"
      ]
     },
     "execution_count": 143,
     "metadata": {},
     "output_type": "execute_result"
    }
   ],
   "source": [
    "df.groupby('month').rainy_day.sum().sort_values(ascending=False)"
   ]
  },
  {
   "cell_type": "code",
   "execution_count": 142,
   "id": "b000a7a9",
   "metadata": {},
   "outputs": [
    {
     "data": {
      "text/plain": [
       "month\n",
       "November     5.354167\n",
       "December     5.021774\n",
       "March        4.888710\n",
       "October      4.059677\n",
       "January      3.758065\n",
       "February     3.734513\n",
       "April        3.128333\n",
       "September    1.962500\n",
       "May          1.673387\n",
       "August       1.320161\n",
       "June         1.107500\n",
       "July         0.388710\n",
       "Name: precipitation, dtype: float64"
      ]
     },
     "execution_count": 142,
     "metadata": {},
     "output_type": "execute_result"
    }
   ],
   "source": [
    "df.groupby('month').precipitation.mean().sort_values(ascending=False)"
   ]
  },
  {
   "cell_type": "markdown",
   "id": "866a5ab5",
   "metadata": {},
   "source": [
    "## Which month has the most number of days with a non-zero amount of precipitation?"
   ]
  },
  {
   "cell_type": "code",
   "execution_count": 144,
   "id": "ccb8dd5a",
   "metadata": {},
   "outputs": [
    {
     "data": {
      "text/plain": [
       "month\n",
       "February     0.353982\n",
       "March        0.298387\n",
       "January      0.282258\n",
       "November     0.208333\n",
       "December     0.185484\n",
       "April        0.166667\n",
       "October      0.161290\n",
       "June         0.158333\n",
       "May          0.129032\n",
       "July         0.112903\n",
       "August       0.048387\n",
       "September    0.033333\n",
       "Name: rainy_day, dtype: float64"
      ]
     },
     "execution_count": 144,
     "metadata": {},
     "output_type": "execute_result"
    }
   ],
   "source": [
    "df.groupby('month').rainy_day.mean().sort_values(ascending=False)"
   ]
  },
  {
   "cell_type": "code",
   "execution_count": 146,
   "id": "dd9a1bda",
   "metadata": {},
   "outputs": [
    {
     "data": {
      "text/html": [
       "<div>\n",
       "<style scoped>\n",
       "    .dataframe tbody tr th:only-of-type {\n",
       "        vertical-align: middle;\n",
       "    }\n",
       "\n",
       "    .dataframe tbody tr th {\n",
       "        vertical-align: top;\n",
       "    }\n",
       "\n",
       "    .dataframe thead th {\n",
       "        text-align: right;\n",
       "    }\n",
       "</style>\n",
       "<table border=\"1\" class=\"dataframe\">\n",
       "  <thead>\n",
       "    <tr style=\"text-align: right;\">\n",
       "      <th></th>\n",
       "      <th>precipitation</th>\n",
       "      <th>temp_max</th>\n",
       "      <th>temp_min</th>\n",
       "      <th>wind</th>\n",
       "      <th>weather</th>\n",
       "      <th>sunny_day</th>\n",
       "      <th>rainy_day</th>\n",
       "      <th>month</th>\n",
       "      <th>precip_amnt</th>\n",
       "    </tr>\n",
       "    <tr>\n",
       "      <th>date</th>\n",
       "      <th></th>\n",
       "      <th></th>\n",
       "      <th></th>\n",
       "      <th></th>\n",
       "      <th></th>\n",
       "      <th></th>\n",
       "      <th></th>\n",
       "      <th></th>\n",
       "      <th></th>\n",
       "    </tr>\n",
       "  </thead>\n",
       "  <tbody>\n",
       "    <tr>\n",
       "      <th>2012-01-01</th>\n",
       "      <td>0.0</td>\n",
       "      <td>12.8</td>\n",
       "      <td>5.0</td>\n",
       "      <td>4.7</td>\n",
       "      <td>drizzle</td>\n",
       "      <td>False</td>\n",
       "      <td>False</td>\n",
       "      <td>January</td>\n",
       "      <td>False</td>\n",
       "    </tr>\n",
       "    <tr>\n",
       "      <th>2012-01-02</th>\n",
       "      <td>10.9</td>\n",
       "      <td>10.6</td>\n",
       "      <td>2.8</td>\n",
       "      <td>4.5</td>\n",
       "      <td>rain</td>\n",
       "      <td>False</td>\n",
       "      <td>True</td>\n",
       "      <td>January</td>\n",
       "      <td>True</td>\n",
       "    </tr>\n",
       "    <tr>\n",
       "      <th>2012-01-03</th>\n",
       "      <td>0.8</td>\n",
       "      <td>11.7</td>\n",
       "      <td>7.2</td>\n",
       "      <td>2.3</td>\n",
       "      <td>rain</td>\n",
       "      <td>False</td>\n",
       "      <td>True</td>\n",
       "      <td>January</td>\n",
       "      <td>True</td>\n",
       "    </tr>\n",
       "    <tr>\n",
       "      <th>2012-01-04</th>\n",
       "      <td>20.3</td>\n",
       "      <td>12.2</td>\n",
       "      <td>5.6</td>\n",
       "      <td>4.7</td>\n",
       "      <td>rain</td>\n",
       "      <td>False</td>\n",
       "      <td>True</td>\n",
       "      <td>January</td>\n",
       "      <td>True</td>\n",
       "    </tr>\n",
       "    <tr>\n",
       "      <th>2012-01-05</th>\n",
       "      <td>1.3</td>\n",
       "      <td>8.9</td>\n",
       "      <td>2.8</td>\n",
       "      <td>6.1</td>\n",
       "      <td>rain</td>\n",
       "      <td>False</td>\n",
       "      <td>True</td>\n",
       "      <td>January</td>\n",
       "      <td>True</td>\n",
       "    </tr>\n",
       "  </tbody>\n",
       "</table>\n",
       "</div>"
      ],
      "text/plain": [
       "            precipitation  temp_max  temp_min  wind  weather  sunny_day  \\\n",
       "date                                                                      \n",
       "2012-01-01            0.0      12.8       5.0   4.7  drizzle      False   \n",
       "2012-01-02           10.9      10.6       2.8   4.5     rain      False   \n",
       "2012-01-03            0.8      11.7       7.2   2.3     rain      False   \n",
       "2012-01-04           20.3      12.2       5.6   4.7     rain      False   \n",
       "2012-01-05            1.3       8.9       2.8   6.1     rain      False   \n",
       "\n",
       "            rainy_day    month  precip_amnt  \n",
       "date                                         \n",
       "2012-01-01      False  January        False  \n",
       "2012-01-02       True  January         True  \n",
       "2012-01-03       True  January         True  \n",
       "2012-01-04       True  January         True  \n",
       "2012-01-05       True  January         True  "
      ]
     },
     "execution_count": 146,
     "metadata": {},
     "output_type": "execute_result"
    }
   ],
   "source": [
    "df['precip_amnt'] = df.precipitation > 0\n",
    "df.head()"
   ]
  },
  {
   "cell_type": "code",
   "execution_count": 147,
   "id": "e9a68bec",
   "metadata": {},
   "outputs": [
    {
     "data": {
      "text/plain": [
       "month\n",
       "December     0.653226\n",
       "February     0.646018\n",
       "November     0.591667\n",
       "March        0.588710\n",
       "January      0.532258\n",
       "October      0.491935\n",
       "April        0.491667\n",
       "June         0.308333\n",
       "September    0.291667\n",
       "May          0.274194\n",
       "August       0.177419\n",
       "July         0.088710\n",
       "Name: precip_amnt, dtype: float64"
      ]
     },
     "execution_count": 147,
     "metadata": {},
     "output_type": "execute_result"
    }
   ],
   "source": [
    "df.groupby('month').precip_amnt.mean().sort_values(ascending=False)"
   ]
  },
  {
   "cell_type": "markdown",
   "id": "c191c709",
   "metadata": {},
   "source": [
    "# Set 3 of Exercises"
   ]
  },
  {
   "cell_type": "code",
   "execution_count": 152,
   "id": "3f8c3073",
   "metadata": {},
   "outputs": [
    {
     "data": {
      "text/html": [
       "<div>\n",
       "<style scoped>\n",
       "    .dataframe tbody tr th:only-of-type {\n",
       "        vertical-align: middle;\n",
       "    }\n",
       "\n",
       "    .dataframe tbody tr th {\n",
       "        vertical-align: top;\n",
       "    }\n",
       "\n",
       "    .dataframe thead th {\n",
       "        text-align: right;\n",
       "    }\n",
       "</style>\n",
       "<table border=\"1\" class=\"dataframe\">\n",
       "  <thead>\n",
       "    <tr style=\"text-align: right;\">\n",
       "      <th></th>\n",
       "      <th>date</th>\n",
       "      <th>delay</th>\n",
       "      <th>distance</th>\n",
       "      <th>origin</th>\n",
       "      <th>destination</th>\n",
       "    </tr>\n",
       "  </thead>\n",
       "  <tbody>\n",
       "    <tr>\n",
       "      <th>0</th>\n",
       "      <td>2001-01-13 14:56:00</td>\n",
       "      <td>32</td>\n",
       "      <td>417</td>\n",
       "      <td>SAN</td>\n",
       "      <td>SJC</td>\n",
       "    </tr>\n",
       "    <tr>\n",
       "      <th>1</th>\n",
       "      <td>2001-01-31 16:40:00</td>\n",
       "      <td>-5</td>\n",
       "      <td>1093</td>\n",
       "      <td>FLL</td>\n",
       "      <td>ISP</td>\n",
       "    </tr>\n",
       "    <tr>\n",
       "      <th>2</th>\n",
       "      <td>2001-02-11 18:39:00</td>\n",
       "      <td>3</td>\n",
       "      <td>293</td>\n",
       "      <td>LBB</td>\n",
       "      <td>DAL</td>\n",
       "    </tr>\n",
       "    <tr>\n",
       "      <th>3</th>\n",
       "      <td>2001-01-10 21:00:00</td>\n",
       "      <td>-15</td>\n",
       "      <td>550</td>\n",
       "      <td>MSY</td>\n",
       "      <td>MCO</td>\n",
       "    </tr>\n",
       "    <tr>\n",
       "      <th>4</th>\n",
       "      <td>2001-03-30 21:45:00</td>\n",
       "      <td>-2</td>\n",
       "      <td>229</td>\n",
       "      <td>STL</td>\n",
       "      <td>IND</td>\n",
       "    </tr>\n",
       "  </tbody>\n",
       "</table>\n",
       "</div>"
      ],
      "text/plain": [
       "                 date  delay  distance origin destination\n",
       "0 2001-01-13 14:56:00     32       417    SAN         SJC\n",
       "1 2001-01-31 16:40:00     -5      1093    FLL         ISP\n",
       "2 2001-02-11 18:39:00      3       293    LBB         DAL\n",
       "3 2001-01-10 21:00:00    -15       550    MSY         MCO\n",
       "4 2001-03-30 21:45:00     -2       229    STL         IND"
      ]
     },
     "execution_count": 152,
     "metadata": {},
     "output_type": "execute_result"
    }
   ],
   "source": [
    "df= data.flights_20k()\n",
    "df.head()"
   ]
  },
  {
   "cell_type": "markdown",
   "id": "ef13fb47",
   "metadata": {},
   "source": [
    "## Convert any negative delays to 0."
   ]
  },
  {
   "cell_type": "code",
   "execution_count": 153,
   "id": "8540f715",
   "metadata": {},
   "outputs": [
    {
     "data": {
      "text/plain": [
       "pandas.core.indexes.datetimes.DatetimeIndex"
      ]
     },
     "execution_count": 153,
     "metadata": {},
     "output_type": "execute_result"
    }
   ],
   "source": [
    "df= df.set_index('date').sort_index()\n",
    "type(df.index)"
   ]
  },
  {
   "cell_type": "code",
   "execution_count": 155,
   "id": "0abd2e42",
   "metadata": {},
   "outputs": [
    {
     "data": {
      "text/html": [
       "<div>\n",
       "<style scoped>\n",
       "    .dataframe tbody tr th:only-of-type {\n",
       "        vertical-align: middle;\n",
       "    }\n",
       "\n",
       "    .dataframe tbody tr th {\n",
       "        vertical-align: top;\n",
       "    }\n",
       "\n",
       "    .dataframe thead th {\n",
       "        text-align: right;\n",
       "    }\n",
       "</style>\n",
       "<table border=\"1\" class=\"dataframe\">\n",
       "  <thead>\n",
       "    <tr style=\"text-align: right;\">\n",
       "      <th></th>\n",
       "      <th>delay</th>\n",
       "      <th>distance</th>\n",
       "      <th>origin</th>\n",
       "      <th>destination</th>\n",
       "    </tr>\n",
       "    <tr>\n",
       "      <th>date</th>\n",
       "      <th></th>\n",
       "      <th></th>\n",
       "      <th></th>\n",
       "      <th></th>\n",
       "    </tr>\n",
       "  </thead>\n",
       "  <tbody>\n",
       "    <tr>\n",
       "      <th>2001-03-26 22:10:00</th>\n",
       "      <td>0</td>\n",
       "      <td>237</td>\n",
       "      <td>STL</td>\n",
       "      <td>MCI</td>\n",
       "    </tr>\n",
       "    <tr>\n",
       "      <th>2001-03-19 19:50:00</th>\n",
       "      <td>0</td>\n",
       "      <td>777</td>\n",
       "      <td>MDW</td>\n",
       "      <td>BDL</td>\n",
       "    </tr>\n",
       "    <tr>\n",
       "      <th>2001-01-26 17:50:00</th>\n",
       "      <td>102</td>\n",
       "      <td>188</td>\n",
       "      <td>RNO</td>\n",
       "      <td>SJC</td>\n",
       "    </tr>\n",
       "    <tr>\n",
       "      <th>2001-01-22 17:40:00</th>\n",
       "      <td>0</td>\n",
       "      <td>308</td>\n",
       "      <td>LAX</td>\n",
       "      <td>SJC</td>\n",
       "    </tr>\n",
       "    <tr>\n",
       "      <th>2001-01-10 11:40:00</th>\n",
       "      <td>0</td>\n",
       "      <td>967</td>\n",
       "      <td>BWI</td>\n",
       "      <td>MCI</td>\n",
       "    </tr>\n",
       "  </tbody>\n",
       "</table>\n",
       "</div>"
      ],
      "text/plain": [
       "                     delay  distance origin destination\n",
       "date                                                   \n",
       "2001-03-26 22:10:00      0       237    STL         MCI\n",
       "2001-03-19 19:50:00      0       777    MDW         BDL\n",
       "2001-01-26 17:50:00    102       188    RNO         SJC\n",
       "2001-01-22 17:40:00      0       308    LAX         SJC\n",
       "2001-01-10 11:40:00      0       967    BWI         MCI"
      ]
     },
     "execution_count": 155,
     "metadata": {},
     "output_type": "execute_result"
    }
   ],
   "source": [
    "df['delay'] = np.where(df['delay'] < 0, 0, df['delay'])\n",
    "df.sample(5)"
   ]
  },
  {
   "cell_type": "markdown",
   "id": "a9e6ff1c",
   "metadata": {},
   "source": [
    "## Which hour of the day has the highest average delay?"
   ]
  },
  {
   "cell_type": "code",
   "execution_count": 156,
   "id": "55cc5f47",
   "metadata": {},
   "outputs": [
    {
     "data": {
      "text/html": [
       "<div>\n",
       "<style scoped>\n",
       "    .dataframe tbody tr th:only-of-type {\n",
       "        vertical-align: middle;\n",
       "    }\n",
       "\n",
       "    .dataframe tbody tr th {\n",
       "        vertical-align: top;\n",
       "    }\n",
       "\n",
       "    .dataframe thead th {\n",
       "        text-align: right;\n",
       "    }\n",
       "</style>\n",
       "<table border=\"1\" class=\"dataframe\">\n",
       "  <thead>\n",
       "    <tr style=\"text-align: right;\">\n",
       "      <th></th>\n",
       "      <th>delay</th>\n",
       "      <th>distance</th>\n",
       "      <th>origin</th>\n",
       "      <th>destination</th>\n",
       "      <th>hour</th>\n",
       "    </tr>\n",
       "    <tr>\n",
       "      <th>date</th>\n",
       "      <th></th>\n",
       "      <th></th>\n",
       "      <th></th>\n",
       "      <th></th>\n",
       "      <th></th>\n",
       "    </tr>\n",
       "  </thead>\n",
       "  <tbody>\n",
       "    <tr>\n",
       "      <th>2001-02-12 20:50:00</th>\n",
       "      <td>0</td>\n",
       "      <td>345</td>\n",
       "      <td>RNO</td>\n",
       "      <td>LAS</td>\n",
       "      <td>20</td>\n",
       "    </tr>\n",
       "    <tr>\n",
       "      <th>2001-02-22 14:30:00</th>\n",
       "      <td>17</td>\n",
       "      <td>447</td>\n",
       "      <td>SFO</td>\n",
       "      <td>SAN</td>\n",
       "      <td>14</td>\n",
       "    </tr>\n",
       "    <tr>\n",
       "      <th>2001-02-09 13:30:00</th>\n",
       "      <td>0</td>\n",
       "      <td>324</td>\n",
       "      <td>AMA</td>\n",
       "      <td>DAL</td>\n",
       "      <td>13</td>\n",
       "    </tr>\n",
       "  </tbody>\n",
       "</table>\n",
       "</div>"
      ],
      "text/plain": [
       "                     delay  distance origin destination hour\n",
       "date                                                        \n",
       "2001-02-12 20:50:00      0       345    RNO         LAS   20\n",
       "2001-02-22 14:30:00     17       447    SFO         SAN   14\n",
       "2001-02-09 13:30:00      0       324    AMA         DAL   13"
      ]
     },
     "execution_count": 156,
     "metadata": {},
     "output_type": "execute_result"
    }
   ],
   "source": [
    "#Create an hour column\n",
    "df['hour']= df.index.strftime('%H')\n",
    "df.sample(3)"
   ]
  },
  {
   "cell_type": "code",
   "execution_count": 158,
   "id": "1b46e51a",
   "metadata": {},
   "outputs": [
    {
     "data": {
      "text/plain": [
       "hour\n",
       "03    302.5\n",
       "Name: delay, dtype: float64"
      ]
     },
     "execution_count": 158,
     "metadata": {},
     "output_type": "execute_result"
    }
   ],
   "source": [
    "df.groupby('hour').delay.mean().sort_values(ascending=False).head(1)"
   ]
  },
  {
   "cell_type": "code",
   "execution_count": 159,
   "id": "b40c977d",
   "metadata": {},
   "outputs": [
    {
     "data": {
      "text/plain": [
       "'03'"
      ]
     },
     "execution_count": 159,
     "metadata": {},
     "output_type": "execute_result"
    }
   ],
   "source": [
    "df.groupby('hour').delay.mean().idxmax()"
   ]
  },
  {
   "cell_type": "markdown",
   "id": "fb906317",
   "metadata": {},
   "source": [
    "## Does the day of the week make a difference in the delay amount?"
   ]
  },
  {
   "cell_type": "code",
   "execution_count": 160,
   "id": "132435c0",
   "metadata": {},
   "outputs": [
    {
     "data": {
      "text/plain": [
       "date\n",
       "2001-01-01     8.747126\n",
       "2001-01-02    21.808411\n",
       "2001-01-03    17.150000\n",
       "2001-01-04     7.176724\n",
       "2001-01-05     9.294118\n",
       "                ...    \n",
       "2001-03-27     4.669683\n",
       "2001-03-28     3.551282\n",
       "2001-03-29    13.545455\n",
       "2001-03-30     8.893162\n",
       "2001-03-31     7.000000\n",
       "Freq: D, Name: delay, Length: 90, dtype: float64"
      ]
     },
     "execution_count": 160,
     "metadata": {},
     "output_type": "execute_result"
    }
   ],
   "source": [
    "df.resample('D').delay.mean()"
   ]
  },
  {
   "cell_type": "code",
   "execution_count": 161,
   "id": "c4220797",
   "metadata": {},
   "outputs": [
    {
     "data": {
      "text/html": [
       "<div>\n",
       "<style scoped>\n",
       "    .dataframe tbody tr th:only-of-type {\n",
       "        vertical-align: middle;\n",
       "    }\n",
       "\n",
       "    .dataframe tbody tr th {\n",
       "        vertical-align: top;\n",
       "    }\n",
       "\n",
       "    .dataframe thead th {\n",
       "        text-align: right;\n",
       "    }\n",
       "</style>\n",
       "<table border=\"1\" class=\"dataframe\">\n",
       "  <thead>\n",
       "    <tr style=\"text-align: right;\">\n",
       "      <th></th>\n",
       "      <th>delay</th>\n",
       "      <th>distance</th>\n",
       "      <th>origin</th>\n",
       "      <th>destination</th>\n",
       "      <th>hour</th>\n",
       "      <th>day</th>\n",
       "    </tr>\n",
       "    <tr>\n",
       "      <th>date</th>\n",
       "      <th></th>\n",
       "      <th></th>\n",
       "      <th></th>\n",
       "      <th></th>\n",
       "      <th></th>\n",
       "      <th></th>\n",
       "    </tr>\n",
       "  </thead>\n",
       "  <tbody>\n",
       "    <tr>\n",
       "      <th>2001-01-03 18:40:00</th>\n",
       "      <td>14</td>\n",
       "      <td>293</td>\n",
       "      <td>DAL</td>\n",
       "      <td>LBB</td>\n",
       "      <td>18</td>\n",
       "      <td>Wednesday</td>\n",
       "    </tr>\n",
       "    <tr>\n",
       "      <th>2001-02-08 07:00:00</th>\n",
       "      <td>0</td>\n",
       "      <td>588</td>\n",
       "      <td>SLC</td>\n",
       "      <td>OAK</td>\n",
       "      <td>07</td>\n",
       "      <td>Thursday</td>\n",
       "    </tr>\n",
       "    <tr>\n",
       "      <th>2001-03-03 14:10:00</th>\n",
       "      <td>0</td>\n",
       "      <td>236</td>\n",
       "      <td>LAX</td>\n",
       "      <td>LAS</td>\n",
       "      <td>14</td>\n",
       "      <td>Saturday</td>\n",
       "    </tr>\n",
       "    <tr>\n",
       "      <th>2001-02-03 11:50:00</th>\n",
       "      <td>0</td>\n",
       "      <td>181</td>\n",
       "      <td>OKC</td>\n",
       "      <td>DAL</td>\n",
       "      <td>11</td>\n",
       "      <td>Saturday</td>\n",
       "    </tr>\n",
       "    <tr>\n",
       "      <th>2001-03-08 09:55:00</th>\n",
       "      <td>0</td>\n",
       "      <td>775</td>\n",
       "      <td>LAS</td>\n",
       "      <td>LBB</td>\n",
       "      <td>09</td>\n",
       "      <td>Thursday</td>\n",
       "    </tr>\n",
       "  </tbody>\n",
       "</table>\n",
       "</div>"
      ],
      "text/plain": [
       "                     delay  distance origin destination hour        day\n",
       "date                                                                   \n",
       "2001-01-03 18:40:00     14       293    DAL         LBB   18  Wednesday\n",
       "2001-02-08 07:00:00      0       588    SLC         OAK   07   Thursday\n",
       "2001-03-03 14:10:00      0       236    LAX         LAS   14   Saturday\n",
       "2001-02-03 11:50:00      0       181    OKC         DAL   11   Saturday\n",
       "2001-03-08 09:55:00      0       775    LAS         LBB   09   Thursday"
      ]
     },
     "execution_count": 161,
     "metadata": {},
     "output_type": "execute_result"
    }
   ],
   "source": [
    "df['day']= df.index.day_name()\n",
    "df.sample(5)"
   ]
  },
  {
   "cell_type": "code",
   "execution_count": 162,
   "id": "88559b35",
   "metadata": {},
   "outputs": [
    {
     "data": {
      "text/plain": [
       "day\n",
       "Friday       17.757596\n",
       "Thursday     12.821322\n",
       "Wednesday    11.032478\n",
       "Sunday       10.413542\n",
       "Tuesday       9.410866\n",
       "Saturday      8.431498\n",
       "Monday        7.165772\n",
       "Name: delay, dtype: float64"
      ]
     },
     "execution_count": 162,
     "metadata": {},
     "output_type": "execute_result"
    }
   ],
   "source": [
    "weekday_df = df.groupby('day').delay.mean().sort_values(ascending=False)\n",
    "weekday_df"
   ]
  },
  {
   "cell_type": "code",
   "execution_count": 163,
   "id": "e6be12c6",
   "metadata": {},
   "outputs": [
    {
     "data": {
      "image/png": "[encoded data removed]",
      "text/plain": [
       "<Figure size 640x480 with 1 Axes>"
      ]
     },
     "metadata": {},
     "output_type": "display_data"
    }
   ],
   "source": [
    "weekday_df.plot()\n",
    "plt.title('Average Delay (in minutes) by Weekday')\n",
    "plt.ylabel('Average Delay in Minutes')\n",
    "plt.show()"
   ]
  },
  {
   "cell_type": "markdown",
   "id": "2cf32ee1",
   "metadata": {},
   "source": [
    "## Does the month make a difference in the delay amount?"
   ]
  },
  {
   "cell_type": "code",
   "execution_count": 164,
   "id": "744aca91",
   "metadata": {},
   "outputs": [
    {
     "data": {
      "text/html": [
       "<div>\n",
       "<style scoped>\n",
       "    .dataframe tbody tr th:only-of-type {\n",
       "        vertical-align: middle;\n",
       "    }\n",
       "\n",
       "    .dataframe tbody tr th {\n",
       "        vertical-align: top;\n",
       "    }\n",
       "\n",
       "    .dataframe thead th {\n",
       "        text-align: right;\n",
       "    }\n",
       "</style>\n",
       "<table border=\"1\" class=\"dataframe\">\n",
       "  <thead>\n",
       "    <tr style=\"text-align: right;\">\n",
       "      <th></th>\n",
       "      <th>delay</th>\n",
       "      <th>distance</th>\n",
       "      <th>origin</th>\n",
       "      <th>destination</th>\n",
       "      <th>hour</th>\n",
       "      <th>day</th>\n",
       "      <th>month</th>\n",
       "    </tr>\n",
       "    <tr>\n",
       "      <th>date</th>\n",
       "      <th></th>\n",
       "      <th></th>\n",
       "      <th></th>\n",
       "      <th></th>\n",
       "      <th></th>\n",
       "      <th></th>\n",
       "      <th></th>\n",
       "    </tr>\n",
       "  </thead>\n",
       "  <tbody>\n",
       "    <tr>\n",
       "      <th>2001-02-02 06:20:00</th>\n",
       "      <td>0</td>\n",
       "      <td>389</td>\n",
       "      <td>SMF</td>\n",
       "      <td>ONT</td>\n",
       "      <td>06</td>\n",
       "      <td>Friday</td>\n",
       "      <td>February</td>\n",
       "    </tr>\n",
       "    <tr>\n",
       "      <th>2001-02-07 17:50:00</th>\n",
       "      <td>5</td>\n",
       "      <td>237</td>\n",
       "      <td>STL</td>\n",
       "      <td>MCI</td>\n",
       "      <td>17</td>\n",
       "      <td>Wednesday</td>\n",
       "      <td>February</td>\n",
       "    </tr>\n",
       "    <tr>\n",
       "      <th>2001-03-30 18:47:00</th>\n",
       "      <td>78</td>\n",
       "      <td>682</td>\n",
       "      <td>BWI</td>\n",
       "      <td>BHM</td>\n",
       "      <td>18</td>\n",
       "      <td>Friday</td>\n",
       "      <td>March</td>\n",
       "    </tr>\n",
       "    <tr>\n",
       "      <th>2001-02-09 17:50:00</th>\n",
       "      <td>35</td>\n",
       "      <td>1588</td>\n",
       "      <td>BNA</td>\n",
       "      <td>LAS</td>\n",
       "      <td>17</td>\n",
       "      <td>Friday</td>\n",
       "      <td>February</td>\n",
       "    </tr>\n",
       "    <tr>\n",
       "      <th>2001-02-03 07:45:00</th>\n",
       "      <td>0</td>\n",
       "      <td>333</td>\n",
       "      <td>SJC</td>\n",
       "      <td>ONT</td>\n",
       "      <td>07</td>\n",
       "      <td>Saturday</td>\n",
       "      <td>February</td>\n",
       "    </tr>\n",
       "  </tbody>\n",
       "</table>\n",
       "</div>"
      ],
      "text/plain": [
       "                     delay  distance origin destination hour        day  \\\n",
       "date                                                                      \n",
       "2001-02-02 06:20:00      0       389    SMF         ONT   06     Friday   \n",
       "2001-02-07 17:50:00      5       237    STL         MCI   17  Wednesday   \n",
       "2001-03-30 18:47:00     78       682    BWI         BHM   18     Friday   \n",
       "2001-02-09 17:50:00     35      1588    BNA         LAS   17     Friday   \n",
       "2001-02-03 07:45:00      0       333    SJC         ONT   07   Saturday   \n",
       "\n",
       "                        month  \n",
       "date                           \n",
       "2001-02-02 06:20:00  February  \n",
       "2001-02-07 17:50:00  February  \n",
       "2001-03-30 18:47:00     March  \n",
       "2001-02-09 17:50:00  February  \n",
       "2001-02-03 07:45:00  February  "
      ]
     },
     "execution_count": 164,
     "metadata": {},
     "output_type": "execute_result"
    }
   ],
   "source": [
    "df['month']= df.index.month_name()\n",
    "#make sure column was created\n",
    "df.sample(5)"
   ]
  },
  {
   "cell_type": "code",
   "execution_count": 165,
   "id": "788d2eed",
   "metadata": {},
   "outputs": [
    {
     "data": {
      "text/plain": [
       "month\n",
       "February    12.306106\n",
       "January     11.301592\n",
       "March        9.875287\n",
       "Name: delay, dtype: float64"
      ]
     },
     "execution_count": 165,
     "metadata": {},
     "output_type": "execute_result"
    }
   ],
   "source": [
    "monthly_df= df.groupby('month').delay.mean()\n",
    "monthly_df"
   ]
  },
  {
   "cell_type": "code",
   "execution_count": 166,
   "id": "4f08c550",
   "metadata": {
    "scrolled": true
   },
   "outputs": [
    {
     "data": {
      "image/png": "[encoded data removed]",
      "text/plain": [
       "<Figure size 640x480 with 1 Axes>"
      ]
     },
     "metadata": {},
     "output_type": "display_data"
    }
   ],
   "source": [
    "monthly_df.plot()\n",
    "plt.title('Average Delay (in minutes) by Month')\n",
    "plt.ylabel('Average Delay in Minutes')\n",
    "plt.show()"
   ]
  },
  {
   "cell_type": "code",
   "execution_count": null,
   "id": "85b61d7c",
   "metadata": {},
   "outputs": [],
   "source": []
  }
 ],
 "metadata": {
  "kernelspec": {
   "display_name": "Python 3 (ipykernel)",
   "language": "python",
   "name": "python3"
  },
  "language_info": {
   "codemirror_mode": {
    "name": "ipython",
    "version": 3
   },
   "file_extension": ".py",
   "mimetype": "text/x-python",
   "name": "python",
   "nbconvert_exporter": "python",
   "pygments_lexer": "ipython3",
   "version": "3.9.13"
  }
 },
 "nbformat": 4,
 "nbformat_minor": 5
}
